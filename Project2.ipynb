{
 "cells": [
  {
   "cell_type": "markdown",
   "metadata": {},
   "source": [
    "# Project 2: Investigate a DataSet"
   ]
  },
  {
   "cell_type": "markdown",
   "metadata": {},
   "source": [
    "## Baseball Data\n",
    "- A data set containing complete batting and pitching statistics from 1871 to 2014, plus fielding statistics, standings, team stats, managerial records, post-season data, and more. This dataset contains many files, but you can choose to analyze only the one(s) you are most interested in."
   ]
  },
  {
   "cell_type": "markdown",
   "metadata": {},
   "source": [
    "## Questions about DataSet\n",
    "- Teams with Highest Average Salaries?\n",
    "- Division with Highest Average Salaries?\n",
    "- Highest paid Player?\n",
    "- Hits impact on Pay?\n",
    "- Average Payraise?"
   ]
  },
  {
   "cell_type": "markdown",
   "metadata": {},
   "source": [
    "## Import Pandas"
   ]
  },
  {
   "cell_type": "code",
   "execution_count": 76,
   "metadata": {
    "collapsed": true
   },
   "outputs": [],
   "source": [
    "import pandas as pd\n"
   ]
  },
  {
   "cell_type": "markdown",
   "metadata": {},
   "source": [
    "## Read CSV File"
   ]
  },
  {
   "cell_type": "code",
   "execution_count": 77,
   "metadata": {
    "collapsed": false
   },
   "outputs": [],
   "source": [
    "player_salaries = pd.read_csv('Salaries.csv')\n",
    "batting_stats = pd.read_csv('Batting.csv')"
   ]
  },
  {
   "cell_type": "markdown",
   "metadata": {
    "collapsed": true
   },
   "source": [
    "## How many Entries?\n",
    "How many Entries are being compared in the DataSet?"
   ]
  },
  {
   "cell_type": "code",
   "execution_count": 78,
   "metadata": {
    "collapsed": false
   },
   "outputs": [
    {
     "data": {
      "text/plain": [
       "25575"
      ]
     },
     "execution_count": 78,
     "metadata": {},
     "output_type": "execute_result"
    }
   ],
   "source": [
    "len(player_salaries)"
   ]
  },
  {
   "cell_type": "markdown",
   "metadata": {},
   "source": [
    "## How many Players?\n",
    "How many unique Players are there in the dataset?"
   ]
  },
  {
   "cell_type": "code",
   "execution_count": 79,
   "metadata": {
    "collapsed": false
   },
   "outputs": [
    {
     "data": {
      "text/plain": [
       "4963"
      ]
     },
     "execution_count": 79,
     "metadata": {},
     "output_type": "execute_result"
    }
   ],
   "source": [
    "len(player_salaries['playerID'].unique())"
   ]
  },
  {
   "cell_type": "markdown",
   "metadata": {},
   "source": [
    "## Preview the Dataset"
   ]
  },
  {
   "cell_type": "code",
   "execution_count": 80,
   "metadata": {
    "collapsed": false
   },
   "outputs": [
    {
     "data": {
      "text/html": [
       "<div>\n",
       "<table border=\"1\" class=\"dataframe\">\n",
       "  <thead>\n",
       "    <tr style=\"text-align: right;\">\n",
       "      <th></th>\n",
       "      <th>yearID</th>\n",
       "      <th>teamID</th>\n",
       "      <th>lgID</th>\n",
       "      <th>playerID</th>\n",
       "      <th>salary</th>\n",
       "    </tr>\n",
       "  </thead>\n",
       "  <tbody>\n",
       "    <tr>\n",
       "      <th>0</th>\n",
       "      <td>1985</td>\n",
       "      <td>ATL</td>\n",
       "      <td>NL</td>\n",
       "      <td>barkele01</td>\n",
       "      <td>870000</td>\n",
       "    </tr>\n",
       "    <tr>\n",
       "      <th>1</th>\n",
       "      <td>1985</td>\n",
       "      <td>ATL</td>\n",
       "      <td>NL</td>\n",
       "      <td>bedrost01</td>\n",
       "      <td>550000</td>\n",
       "    </tr>\n",
       "    <tr>\n",
       "      <th>2</th>\n",
       "      <td>1985</td>\n",
       "      <td>ATL</td>\n",
       "      <td>NL</td>\n",
       "      <td>benedbr01</td>\n",
       "      <td>545000</td>\n",
       "    </tr>\n",
       "    <tr>\n",
       "      <th>3</th>\n",
       "      <td>1985</td>\n",
       "      <td>ATL</td>\n",
       "      <td>NL</td>\n",
       "      <td>campri01</td>\n",
       "      <td>633333</td>\n",
       "    </tr>\n",
       "    <tr>\n",
       "      <th>4</th>\n",
       "      <td>1985</td>\n",
       "      <td>ATL</td>\n",
       "      <td>NL</td>\n",
       "      <td>ceronri01</td>\n",
       "      <td>625000</td>\n",
       "    </tr>\n",
       "  </tbody>\n",
       "</table>\n",
       "</div>"
      ],
      "text/plain": [
       "   yearID teamID lgID   playerID  salary\n",
       "0    1985    ATL   NL  barkele01  870000\n",
       "1    1985    ATL   NL  bedrost01  550000\n",
       "2    1985    ATL   NL  benedbr01  545000\n",
       "3    1985    ATL   NL   campri01  633333\n",
       "4    1985    ATL   NL  ceronri01  625000"
      ]
     },
     "execution_count": 80,
     "metadata": {},
     "output_type": "execute_result"
    }
   ],
   "source": [
    "player_salaries.head()"
   ]
  },
  {
   "cell_type": "markdown",
   "metadata": {},
   "source": [
    "## DataSet Statistics"
   ]
  },
  {
   "cell_type": "code",
   "execution_count": 81,
   "metadata": {
    "collapsed": false
   },
   "outputs": [
    {
     "data": {
      "text/html": [
       "<div>\n",
       "<table border=\"1\" class=\"dataframe\">\n",
       "  <thead>\n",
       "    <tr style=\"text-align: right;\">\n",
       "      <th></th>\n",
       "      <th>yearID</th>\n",
       "      <th>salary</th>\n",
       "    </tr>\n",
       "  </thead>\n",
       "  <tbody>\n",
       "    <tr>\n",
       "      <th>count</th>\n",
       "      <td>25575.000000</td>\n",
       "      <td>2.557500e+04</td>\n",
       "    </tr>\n",
       "    <tr>\n",
       "      <th>mean</th>\n",
       "      <td>2000.374389</td>\n",
       "      <td>2.008563e+06</td>\n",
       "    </tr>\n",
       "    <tr>\n",
       "      <th>std</th>\n",
       "      <td>8.610604</td>\n",
       "      <td>3.315706e+06</td>\n",
       "    </tr>\n",
       "    <tr>\n",
       "      <th>min</th>\n",
       "      <td>1985.000000</td>\n",
       "      <td>0.000000e+00</td>\n",
       "    </tr>\n",
       "    <tr>\n",
       "      <th>25%</th>\n",
       "      <td>1993.000000</td>\n",
       "      <td>2.750000e+05</td>\n",
       "    </tr>\n",
       "    <tr>\n",
       "      <th>50%</th>\n",
       "      <td>2000.000000</td>\n",
       "      <td>5.500000e+05</td>\n",
       "    </tr>\n",
       "    <tr>\n",
       "      <th>75%</th>\n",
       "      <td>2008.000000</td>\n",
       "      <td>2.250000e+06</td>\n",
       "    </tr>\n",
       "    <tr>\n",
       "      <th>max</th>\n",
       "      <td>2015.000000</td>\n",
       "      <td>3.300000e+07</td>\n",
       "    </tr>\n",
       "  </tbody>\n",
       "</table>\n",
       "</div>"
      ],
      "text/plain": [
       "             yearID        salary\n",
       "count  25575.000000  2.557500e+04\n",
       "mean    2000.374389  2.008563e+06\n",
       "std        8.610604  3.315706e+06\n",
       "min     1985.000000  0.000000e+00\n",
       "25%     1993.000000  2.750000e+05\n",
       "50%     2000.000000  5.500000e+05\n",
       "75%     2008.000000  2.250000e+06\n",
       "max     2015.000000  3.300000e+07"
      ]
     },
     "execution_count": 81,
     "metadata": {},
     "output_type": "execute_result"
    }
   ],
   "source": [
    "player_salaries.describe()"
   ]
  },
  {
   "cell_type": "markdown",
   "metadata": {
    "collapsed": true
   },
   "source": [
    "## NL vs AL Average Salary?"
   ]
  },
  {
   "cell_type": "code",
   "execution_count": 82,
   "metadata": {
    "collapsed": false
   },
   "outputs": [
    {
     "name": "stdout",
     "output_type": "stream",
     "text": [
      "Number of AL Salaries = 12538\n",
      "Number of NL Salaries = 13037\n"
     ]
    }
   ],
   "source": [
    "## Seperate lgID by AL and NL\n",
    "al_players = (player_salaries[player_salaries['lgID'] == 'AL'])\n",
    "print '{} = {}'.format ('Number of AL Salaries', len(al_players))\n",
    "nl_players = (player_salaries[player_salaries['lgID'] == 'NL'])\n",
    "print '{} = {}'.format ('Number of NL Salaries', len(nl_players))"
   ]
  },
  {
   "cell_type": "code",
   "execution_count": 83,
   "metadata": {
    "collapsed": false
   },
   "outputs": [
    {
     "name": "stdout",
     "output_type": "stream",
     "text": [
      "The Average AL Salary = 2039098.18384\n",
      "The Average NL Salary = 1979196.62\n"
     ]
    }
   ],
   "source": [
    "## Get average of AL and NL\n",
    "al_average = al_players['salary'].mean()\n",
    "nl_average = nl_players['salary'].mean()\n",
    "print '{} = {}'.format ('The Average AL Salary', (al_average))\n",
    "print '{} = {}'.format ('The Average NL Salary', (nl_average))"
   ]
  },
  {
   "cell_type": "code",
   "execution_count": 84,
   "metadata": {
    "collapsed": false
   },
   "outputs": [
    {
     "name": "stdout",
     "output_type": "stream",
     "text": [
      "yearID           2015\n",
      "teamID            TOR\n",
      "lgID               AL\n",
      "playerID    zupcibo01\n",
      "salary       33000000\n",
      "dtype: object\n"
     ]
    }
   ],
   "source": [
    "## Max AL\n",
    "max_al = al_players.max()\n",
    "print (max_al)"
   ]
  },
  {
   "cell_type": "code",
   "execution_count": 85,
   "metadata": {
    "collapsed": false
   },
   "outputs": [
    {
     "name": "stdout",
     "output_type": "stream",
     "text": [
      "yearID           2015\n",
      "teamID            WAS\n",
      "lgID               NL\n",
      "playerID    zuvelpa01\n",
      "salary       32571000\n",
      "dtype: object\n"
     ]
    }
   ],
   "source": [
    "# Max NL\n",
    "max_nl = nl_players.max()\n",
    "print (max_nl)"
   ]
  },
  {
   "cell_type": "markdown",
   "metadata": {},
   "source": [
    "### NL vs AL Pay Conclusion\n",
    "-The Average AL Salary is \\$2,039,098.18\n",
    "-The Average NL Salary is \\$1,979,196.62\n",
    "-The Highest Paid AL Player made \\$33,000,000.00\n",
    "-The Highest Paid NL Player made \\$32,571,000.00"
   ]
  },
  {
   "cell_type": "markdown",
   "metadata": {},
   "source": [
    "## Average Yearly Pay Change?"
   ]
  },
  {
   "cell_type": "code",
   "execution_count": 86,
   "metadata": {
    "collapsed": false
   },
   "outputs": [
    {
     "name": "stdout",
     "output_type": "stream",
     "text": [
      "The average pay raise is $74796.44.\n"
     ]
    }
   ],
   "source": [
    "## Average Pay Difference Between Years For Every Player who played 2 or more Seasons\n",
    "import numpy as np\n",
    "unique_players = player_salaries.groupby('playerID')['salary'].apply(list)\n",
    "returning_players = unique_players[unique_players.map(len) >= 2]\n",
    "return_series = returning_players.apply(pd.Series)\n",
    "pay_diff = np.diff(return_series)\n",
    "average_payraise = np.nansum(pay_diff) / np.count_nonzero(pay_diff)\n",
    "print ('The average pay raise is ${:.2f}.'.format(average_payraise))"
   ]
  },
  {
   "cell_type": "markdown",
   "metadata": {},
   "source": [
    "### Average Yearly Pay Change Conclusion\n",
    "-The Average Pay Raise is \\$74,796.44."
   ]
  },
  {
   "cell_type": "markdown",
   "metadata": {
    "collapsed": true
   },
   "source": [
    "## Median Salaries by Team?"
   ]
  },
  {
   "cell_type": "code",
   "execution_count": 87,
   "metadata": {
    "collapsed": false
   },
   "outputs": [
    {
     "data": {
      "image/png": "[encoded data removed]",
      "text/plain": [
       "<matplotlib.figure.Figure at 0xa045a20>"
      ]
     },
     "metadata": {},
     "output_type": "display_data"
    }
   ],
   "source": [
    "## Median Salary by Team\n",
    "import matplotlib.pyplot as plt\n",
    "import pylab\n",
    "team_salaries=player_salaries.groupby('teamID')['salary'].apply(list)\n",
    "teamList = team_salaries.to_frame()\n",
    "teamAverage = teamList['salary'].apply(np.median)\n",
    "teamAverage.plot.box(x='teamID',y ='salary')\n",
    "plt.ylabel(\"median salary\")\n",
    "plt.title (\"Median Salaries By Team\")\n",
    "pylab.show()"
   ]
  },
  {
   "cell_type": "markdown",
   "metadata": {},
   "source": [
    "#### This Graph Shows each teams Median Salary"
   ]
  },
  {
   "cell_type": "code",
   "execution_count": 88,
   "metadata": {
    "collapsed": false
   },
   "outputs": [
    {
     "data": {
      "image/png": "[encoded data removed]",
      "text/plain": [
       "<matplotlib.figure.Figure at 0xbb4a668>"
      ]
     },
     "metadata": {},
     "output_type": "display_data"
    }
   ],
   "source": [
    "## Total Pay Split by Teams\n",
    "teamAmount= teamList['salary'].apply(np.sum)\n",
    "##teamPercent = teamAmount / len(teamAmount) \n",
    "teamAmount.plot ('bar')\n",
    "plt.ylabel(\"Amount in 500 Million\")\n",
    "plt.title(\"Total Salary Divided by Teams Salary\")\n",
    "pylab.show()"
   ]
  },
  {
   "cell_type": "markdown",
   "metadata": {},
   "source": [
    "#### This graph shows the percent of each teams Salary based on total Salary"
   ]
  },
  {
   "cell_type": "markdown",
   "metadata": {},
   "source": [
    "### Median Salaries By Team Conclusion\n",
    "- The team with the highest median salary is LAA with \\$1,650,000.00"
   ]
  },
  {
   "cell_type": "markdown",
   "metadata": {
    "collapsed": true
   },
   "source": [
    "## Hits and Salary?"
   ]
  },
  {
   "cell_type": "code",
   "execution_count": 89,
   "metadata": {
    "collapsed": false
   },
   "outputs": [
    {
     "data": {
      "text/html": [
       "<div>\n",
       "<table border=\"1\" class=\"dataframe\">\n",
       "  <thead>\n",
       "    <tr style=\"text-align: right;\">\n",
       "      <th></th>\n",
       "      <th>playerID</th>\n",
       "      <th>yearID</th>\n",
       "      <th>salary</th>\n",
       "      <th>H</th>\n",
       "    </tr>\n",
       "  </thead>\n",
       "  <tbody>\n",
       "    <tr>\n",
       "      <th>0</th>\n",
       "      <td>barkele01</td>\n",
       "      <td>1985</td>\n",
       "      <td>870000</td>\n",
       "      <td>0.0</td>\n",
       "    </tr>\n",
       "    <tr>\n",
       "      <th>1</th>\n",
       "      <td>bedrost01</td>\n",
       "      <td>1985</td>\n",
       "      <td>550000</td>\n",
       "      <td>5.0</td>\n",
       "    </tr>\n",
       "    <tr>\n",
       "      <th>2</th>\n",
       "      <td>benedbr01</td>\n",
       "      <td>1985</td>\n",
       "      <td>545000</td>\n",
       "      <td>42.0</td>\n",
       "    </tr>\n",
       "    <tr>\n",
       "      <th>3</th>\n",
       "      <td>campri01</td>\n",
       "      <td>1985</td>\n",
       "      <td>633333</td>\n",
       "      <td>3.0</td>\n",
       "    </tr>\n",
       "    <tr>\n",
       "      <th>4</th>\n",
       "      <td>ceronri01</td>\n",
       "      <td>1985</td>\n",
       "      <td>625000</td>\n",
       "      <td>61.0</td>\n",
       "    </tr>\n",
       "  </tbody>\n",
       "</table>\n",
       "</div>"
      ],
      "text/plain": [
       "    playerID  yearID  salary     H\n",
       "0  barkele01    1985  870000   0.0\n",
       "1  bedrost01    1985  550000   5.0\n",
       "2  benedbr01    1985  545000  42.0\n",
       "3   campri01    1985  633333   3.0\n",
       "4  ceronri01    1985  625000  61.0"
      ]
     },
     "execution_count": 89,
     "metadata": {},
     "output_type": "execute_result"
    }
   ],
   "source": [
    "## Merge Batting CSV into Salary CSV \n",
    "battingPay = player_salaries.merge(batting_stats, on=['playerID','yearID'])\n",
    "hitsPay = battingPay[['playerID','yearID','salary','H']]\n",
    "hitsPay.head()"
   ]
  },
  {
   "cell_type": "code",
   "execution_count": 90,
   "metadata": {
    "collapsed": false
   },
   "outputs": [
    {
     "name": "stdout",
     "output_type": "stream",
     "text": [
      "playerID    zuvelpa01\n",
      "yearID           2015\n",
      "salary       33000000\n",
      "H                 262\n",
      "dtype: object\n"
     ]
    }
   ],
   "source": [
    "## Player with Most Hits\n",
    "print (hitsPay.max())"
   ]
  },
  {
   "cell_type": "markdown",
   "metadata": {},
   "source": [
    "### *There is about a 75000 row differnce Between salary and batting csv's. "
   ]
  },
  {
   "cell_type": "code",
   "execution_count": 91,
   "metadata": {
    "collapsed": false
   },
   "outputs": [
    {
     "name": "stdout",
     "output_type": "stream",
     "text": [
      "The average pay per hit is $47650.18.\n"
     ]
    }
   ],
   "source": [
    "## Total Hits divided by Total Salary to get Pay per Hit\n",
    "totalSalary = hitsPay['salary'].sum()\n",
    "totalHits = hitsPay['H'].sum()\n",
    "print ('The average pay per hit is ${:.2f}.'.format(totalSalary / totalHits))"
   ]
  },
  {
   "cell_type": "markdown",
   "metadata": {},
   "source": [
    "### Hits and Salary Conclusion\n",
    "- The average pay per hit is \\$47,650.18\n",
    "- The Player with Most hits is also the Highest Paid player."
   ]
  },
  {
   "cell_type": "markdown",
   "metadata": {},
   "source": [
    "## Data Wrangling \n",
    "When finding the average payraise I limited it to players who have played 2 or more years. Then I had to get the differences of the consecutive values without the nan values getting in the way. When finding the Pay per hit I combined to 2 csvs there was almost a 75000 row difference between the two."
   ]
  },
  {
   "cell_type": "markdown",
   "metadata": {
    "collapsed": true
   },
   "source": [
    "## Conlcusion\n",
    "In my conclusion I found on average AL salary at \\$2,039,098.18 is more than the average NL at \\$1,979,196.62. The Highest AL Salary is \\$33,000,000.00 and the highest NL is \\$32.571,000. The average yearly pay change is \\$74,796.44. the Team with the highest Median Salary is LAA at \\$1,650,000.00. The Average Pay Per Hit is \\$47,650.18. Some limitations on my data was that the batting and salary files didnt match up well. The batting file had data for 101332 different players and years. And the salary file only had 25575 different players and years. This makes it so that around 75000 players batting statistics cant be used because they didnt have a salary to go with them."
   ]
  }
 ],
 "metadata": {
  "anaconda-cloud": {},
  "kernelspec": {
   "display_name": "Python [default]",
   "language": "python",
   "name": "python2"
  },
  "language_info": {
   "codemirror_mode": {
    "name": "ipython",
    "version": 2
   },
   "file_extension": ".py",
   "mimetype": "text/x-python",
   "name": "python",
   "nbconvert_exporter": "python",
   "pygments_lexer": "ipython2",
   "version": "2.7.12"
  }
 },
 "nbformat": 4,
 "nbformat_minor": 1
}
